{
 "cells": [
  {
   "cell_type": "code",
   "execution_count": 45,
   "id": "99c563c0-fc9b-4d07-af31-120d2a88b701",
   "metadata": {},
   "outputs": [
    {
     "name": "stdout",
     "output_type": "stream",
     "text": [
      "[1 2 3 4 5 6 7]\n"
     ]
    }
   ],
   "source": [
    "# Creating Array in numpy\n",
    "import numpy as np\n",
    "import math\n",
    "arr1 = np.array([1,2,3,4,5,6,7])\n",
    "arr2 = np.array([8,9,10,11,12,13,14])\n",
    "num1 = 10\n",
    "num2 = 12\n",
    "print(arr)"
   ]
  },
  {
   "cell_type": "code",
   "execution_count": 11,
   "id": "24ea428d-2277-43f5-ba36-4e4c258f6c84",
   "metadata": {},
   "outputs": [
    {
     "name": "stdout",
     "output_type": "stream",
     "text": [
      "Input number 1 is: 10\n",
      "Input number 2 is: 12\n",
      "Bitwise AND OPeration is: 8\n",
      "Bitwise OR OPeration is: 14\n",
      "Bitwise XOR OPeration is: 6\n",
      "Bitwise inversion OPeration is: -11\n"
     ]
    }
   ],
   "source": [
    "# Operations in Numpy Array\n",
    "## Binary Operations : Acts on bits and performsbit by bit operations\n",
    "print(\"Input number 1 is:\", num1)\n",
    "print(\"Input number 2 is:\", num2)\n",
    "out_num1 = np.bitwise_and(num1, num2)\n",
    "out_num2 = np.bitwise_or(num1, num2)\n",
    "out_num3 = np.bitwise_xor(num1, num2)\n",
    "out_num4 = np.invert(num1)\n",
    "print(\"Bitwise AND OPeration is:\", out_num1)\n",
    "print(\"Bitwise OR OPeration is:\", out_num2)\n",
    "print(\"Bitwise XOR OPeration is:\", out_num3)\n",
    "print(\"Bitwise inversion OPeration is:\", out_num4)"
   ]
  },
  {
   "cell_type": "code",
   "execution_count": 29,
   "id": "bfd407d2-469f-4c08-9b33-44edd1675e76",
   "metadata": {},
   "outputs": [
    {
     "name": "stdout",
     "output_type": "stream",
     "text": [
      "[ 0.84147098  0.90929743  0.14112001 -0.7568025  -0.95892427 -0.2794155\n",
      "  0.6569866 ]\n",
      "[ 0.54030231 -0.41614684 -0.9899925  -0.65364362  0.28366219  0.96017029\n",
      "  0.75390225]\n",
      "[ 1.          1.14159265  0.14159265 -0.85840735 -1.28318531 -0.28318531\n",
      "  0.71681469]\n",
      "[1.         2.         3.         2.28318531 1.28318531 0.28318531\n",
      " 0.71681469]\n",
      "[0.         0.69314718 1.09861229 1.38629436 1.60943791 1.79175947\n",
      " 1.94591015]\n",
      "2.154434690031884\n",
      "[2 2 3 4 4 4 4]\n"
     ]
    }
   ],
   "source": [
    "# Numpy Mathematical Functions\n",
    "## Trigonometric Functions\n",
    "sine_values = np.sin(arr1) # gives sin value\n",
    "print(sine_values)\n",
    "cosine_values = np.cos(arr1) # gives cos value\n",
    "print(cosine_values)\n",
    "inv_sin = np.arcsin(sine_values) # gives sin inverse\n",
    "print(inv_sin)\n",
    "inv_cos = np.arccos(cosine_values) # gives cos inverse\n",
    "print(inv_cos)\n",
    "log_fun = np.log(arr1) #Log Function\n",
    "print(log_fun)\n",
    "cube_root = np.cbrt(num1) #Cube Root\n",
    "print(cube_root)\n",
    "clipping = np.clip(arr1, a_min = 2, a_max=4)\n",
    "print(clipping)"
   ]
  },
  {
   "cell_type": "code",
   "execution_count": 31,
   "id": "d97af286-e79d-4f2c-8319-0d52019a4293",
   "metadata": {},
   "outputs": [
    {
     "data": {
      "text/plain": [
       "7"
      ]
     },
     "execution_count": 31,
     "metadata": {},
     "output_type": "execute_result"
    }
   ],
   "source": [
    "arr1.size"
   ]
  },
  {
   "cell_type": "code",
   "execution_count": 61,
   "id": "b5988744-e13d-4422-b141-ce535f7a4c3e",
   "metadata": {},
   "outputs": [
    {
     "name": "stdout",
     "output_type": "stream",
     "text": [
      "[[ 9 11 13 15 17 19 21]]\n",
      "[[-7 -7 -7 -7 -7 -7 -7]]\n",
      "[[ 8 18 30 44 60 78 98]]\n",
      "[[0.125      0.22222222 0.3        0.36363636 0.41666667 0.46153846\n",
      "  0.5       ]]\n",
      "[ 1  4  9 16 25 36 49]\n",
      "28\n",
      "[336]\n"
     ]
    }
   ],
   "source": [
    "# Arthematic Operations\n",
    "arr2 = arr2.reshape(1,7)\n",
    "print(np.add(arr1,arr2)) # Adding array\n",
    "print(np.subtract(arr1,arr2)) # Subtract Array\n",
    "print(np.multiply(arr1,arr2)) # Multiply Array\n",
    "print(np.divide(arr1, arr2)) # Divide Array\n",
    "print(np.power(arr1,2)) # Power to 2\n",
    "print(np.sum(arr1)) # sum of arr1\n",
    "print(np.inner(arr1,arr2)) # Computes inner product\n"
   ]
  },
  {
   "cell_type": "code",
   "execution_count": 65,
   "id": "64c035dc-7a9c-4ea3-913f-abd53b56f0f9",
   "metadata": {},
   "outputs": [
    {
     "name": "stdout",
     "output_type": "stream",
     "text": [
      "[[ 8 10]\n",
      " [13 15]]\n",
      "[[-6 -6]\n",
      " [-5 -5]]\n",
      "[[0.14285714 0.25      ]\n",
      " [0.44444444 0.5       ]]\n",
      "[[ 7 16]\n",
      " [36 50]]\n",
      "[[25 28]\n",
      " [73 82]]\n"
     ]
    }
   ],
   "source": [
    "## Matrix\n",
    "x = np.array([[1, 2], [4, 5]]) \n",
    "y = np.array([[7, 8], [9, 10]]) \n",
    "print (np.add(x,y)) # matrix add\n",
    "print (np.subtract(x,y)) # matrix subtract\n",
    "print (np.divide(x,y)) # matrix divide\n",
    "print (np.multiply(x,y)) # element-wise multiply\n",
    "print (np.dot(x,y)) # dot product\n"
   ]
  },
  {
   "cell_type": "code",
   "execution_count": 69,
   "id": "dd8125d9-cf0a-4b69-a483-9f0bd5590022",
   "metadata": {},
   "outputs": [
    {
     "name": "stdout",
     "output_type": "stream",
     "text": [
      "[8, 10, 0]\n",
      "[13, 15, 0]\n",
      "[0, 0, 0]\n"
     ]
    }
   ],
   "source": [
    "res = [[0, 0, 0], [0, 0, 0], [0, 0, 0]]\n",
    "for i in range(len(x)):\n",
    "    for j in range(len(x[0])):\n",
    "        res[i][j] = x[i][j] + y[i][j]\n",
    "\n",
    "for r in res:\n",
    "    print(r)"
   ]
  },
  {
   "cell_type": "code",
   "execution_count": 87,
   "id": "4fe6fd07-885c-447d-8ca8-55b3a8045601",
   "metadata": {},
   "outputs": [
    {
     "name": "stdout",
     "output_type": "stream",
     "text": [
      "[[1 4]\n",
      " [2 5]]\n",
      "2.5\n",
      "[[-1.66666667  0.66666667]\n",
      " [ 1.33333333 -0.33333333]]\n",
      "-2.9999999999999996\n",
      "2\n",
      "6\n",
      "EighResult(eigenvalues=array([-1.47213595,  7.47213595]), eigenvectors=array([[-0.85065081,  0.52573111],\n",
      "       [ 0.52573111,  0.85065081]]))\n"
     ]
    }
   ],
   "source": [
    "trans=x.transpose() # transpose of matrix\n",
    "print(trans)\n",
    "print(x.var()) # variance of matrix\n",
    "print(np.linalg.inv(x)) # inverse of matrix\n",
    "print(np.linalg.det(x)) # Determinant of matrix\n",
    "print(np.linalg.matrix_rank(x)) # Rank of matrix\n",
    "print(np.trace(x)) # trace of matrix\n",
    "print(np.linalg.eigh(x)) # Eigen VAlue"
   ]
  },
  {
   "cell_type": "code",
   "execution_count": null,
   "id": "a13905c3-461b-43da-bbca-d63870ba7cec",
   "metadata": {},
   "outputs": [],
   "source": []
  }
 ],
 "metadata": {
  "kernelspec": {
   "display_name": "Python 3 (base)",
   "language": "python",
   "name": "python3"
  },
  "language_info": {
   "codemirror_mode": {
    "name": "ipython",
    "version": 3
   },
   "file_extension": ".py",
   "mimetype": "text/x-python",
   "name": "python",
   "nbconvert_exporter": "python",
   "pygments_lexer": "ipython3",
   "version": "3.12.3"
  }
 },
 "nbformat": 4,
 "nbformat_minor": 5
}
