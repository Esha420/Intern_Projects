{
 "cells": [
  {
   "cell_type": "code",
   "execution_count": 1,
   "id": "55d4aa9f-7a02-431c-9e74-13c94e3a75c1",
   "metadata": {},
   "outputs": [],
   "source": [
    "### Python Basics"
   ]
  },
  {
   "cell_type": "code",
   "execution_count": 3,
   "id": "c594b986-b049-4735-810a-994b7b2f9c24",
   "metadata": {},
   "outputs": [
    {
     "name": "stdin",
     "output_type": "stream",
     "text": [
      "Enter your name:  Esha\n"
     ]
    },
    {
     "name": "stdout",
     "output_type": "stream",
     "text": [
      "Hello Esha\n"
     ]
    }
   ],
   "source": [
    "## Input and Output in Python\n",
    "name = input(\"Enter your name: \")\n",
    "print(\"Hello\", name)"
   ]
  },
  {
   "cell_type": "code",
   "execution_count": 23,
   "id": "cc4337c6-b375-4de0-965d-c4f0d1aa165b",
   "metadata": {},
   "outputs": [
    {
     "name": "stdin",
     "output_type": "stream",
     "text": [
      "Enter height and weight: 10 20\n"
     ]
    },
    {
     "name": "stdout",
     "output_type": "stream",
     "text": [
      "10 20\n"
     ]
    }
   ],
   "source": [
    "## Taking multiple inputs\n",
    "height, weight = map(int, input(\"Enter height and weight:\").split())\n",
    "print(height, weight)"
   ]
  },
  {
   "cell_type": "code",
   "execution_count": 25,
   "id": "19be02f1-d78f-41e3-8bbf-7bd8b2b88dfe",
   "metadata": {},
   "outputs": [
    {
     "name": "stdin",
     "output_type": "stream",
     "text": [
      "Enter Price: 10\n"
     ]
    },
    {
     "name": "stdout",
     "output_type": "stream",
     "text": [
      "10.0\n"
     ]
    }
   ],
   "source": [
    "## Floats in Python\n",
    "price = float(input(\"Enter Price:\"))\n",
    "print(price)"
   ]
  },
  {
   "cell_type": "code",
   "execution_count": 31,
   "id": "71a658b7-1fdc-4c05-91b3-ccbf6b228718",
   "metadata": {},
   "outputs": [
    {
     "name": "stdout",
     "output_type": "stream",
     "text": [
      "<class 'str'>\n",
      "<class 'int'>\n",
      "<class 'float'>\n"
     ]
    }
   ],
   "source": [
    "## Finding Data Types\n",
    "print(type(name))\n",
    "print(type(height))\n",
    "print(type(price))"
   ]
  },
  {
   "cell_type": "code",
   "execution_count": 55,
   "id": "206960e1-0908-4c4c-8564-48368bfa254f",
   "metadata": {},
   "outputs": [
    {
     "name": "stdout",
     "output_type": "stream",
     "text": [
      "10+Happy\n",
      "Esha*10*20\n",
      "The price is 10.0, and the weight is 20\n",
      "The height is 10 and weight is 20\n"
     ]
    }
   ],
   "source": [
    "##Output Formatting\n",
    "print(format(height), end='+')\n",
    "print(\"Happy\")\n",
    "print(name, height, weight, sep='*')\n",
    "print(f\"The price is {price}, and the weight is {weight}\")\n",
    "print(\"The height is %d and weight is %d\" %(height,weight))"
   ]
  },
  {
   "cell_type": "code",
   "execution_count": 59,
   "id": "b6c0fa9f-8141-45b3-b21e-ad7f0b398a1b",
   "metadata": {},
   "outputs": [
    {
     "name": "stdout",
     "output_type": "stream",
     "text": [
      "I am Local Variable\n",
      "I have modified Global Variable\n"
     ]
    }
   ],
   "source": [
    "## Variables\n",
    "# Scope of s Variable, two types - Local and Global Variable\n",
    "def local():\n",
    "    a = \"I am Local Variable\"\n",
    "    print(a)\n",
    "    global b\n",
    "    b = \"I have modified Global Variable\"\n",
    "    print(b)\n",
    "local()\n",
    "\n",
    "b = \"I am Global Variable\""
   ]
  },
  {
   "cell_type": "code",
   "execution_count": 65,
   "id": "a2523046-7ac6-49bd-bb5f-ee83e67ceb8d",
   "metadata": {},
   "outputs": [
    {
     "ename": "NameError",
     "evalue": "name 'b' is not defined",
     "output_type": "error",
     "traceback": [
      "\u001b[1;31m---------------------------------------------------------------------------\u001b[0m",
      "\u001b[1;31mNameError\u001b[0m                                 Traceback (most recent call last)",
      "Cell \u001b[1;32mIn[65], line 2\u001b[0m\n\u001b[0;32m      1\u001b[0m \u001b[38;5;66;03m# Deleting a variable\u001b[39;00m\n\u001b[1;32m----> 2\u001b[0m \u001b[38;5;28;01mdel\u001b[39;00m b\n\u001b[0;32m      4\u001b[0m \u001b[38;5;28mprint\u001b[39m(b)\n",
      "\u001b[1;31mNameError\u001b[0m: name 'b' is not defined"
     ]
    }
   ],
   "source": [
    "# Deleting a variable\n",
    "del b\n",
    "print(b)"
   ]
  },
  {
   "cell_type": "code",
   "execution_count": 73,
   "id": "a7efd9e9-37a6-4b13-8c5e-377d4e35d496",
   "metadata": {},
   "outputs": [
    {
     "name": "stdout",
     "output_type": "stream",
     "text": [
      "Addition 30\n",
      "Subtraction -10\n",
      "Multiplication 200\n",
      "Division 0.5\n",
      "Floor Division 0\n",
      "Modulus 10\n",
      "Exponent 100000000000000000000\n"
     ]
    }
   ],
   "source": [
    "## Python Operators\n",
    "# Arithmetic Operator\n",
    "print(\"Addition\", height+weight)\n",
    "print(\"Subtraction\", height-weight)\n",
    "print(\"Multiplication\", height*weight)\n",
    "print(\"Division\", height/weight)\n",
    "print(\"Floor Division\", height//weight)\n",
    "print(\"Modulus\", height%weight)\n",
    "print(\"Exponent\", height**weight)"
   ]
  },
  {
   "cell_type": "code",
   "execution_count": 75,
   "id": "054b1b84-e4e6-488d-a45b-d554119b721a",
   "metadata": {},
   "outputs": [
    {
     "name": "stdout",
     "output_type": "stream",
     "text": [
      "False\n",
      "True\n",
      "False\n",
      "True\n",
      "False\n",
      "True\n"
     ]
    }
   ],
   "source": [
    "# Comparision Operators\n",
    "print(height>weight)\n",
    "print(height<weight)\n",
    "print(height==weight)\n",
    "print(height<=weight)\n",
    "print(height>=weight)\n",
    "print(height!=weight)\n"
   ]
  },
  {
   "cell_type": "code",
   "execution_count": 79,
   "id": "641ebd2e-193a-41c7-b67b-a543afb6144f",
   "metadata": {},
   "outputs": [
    {
     "name": "stdout",
     "output_type": "stream",
     "text": [
      "0\n",
      "1\n",
      "False\n"
     ]
    }
   ],
   "source": [
    "#Logical Operators\n",
    "x=0\n",
    "y=1\n",
    "print(x and y)\n",
    "print(x or y)\n",
    "print( not y)"
   ]
  },
  {
   "cell_type": "code",
   "execution_count": 101,
   "id": "40dff4a8-eec0-4e5d-bdac-b2dc4a39dffb",
   "metadata": {},
   "outputs": [
    {
     "name": "stdout",
     "output_type": "stream",
     "text": [
      "Bitwise and operation is 0b1011\n",
      "Bitwise OR operation is 0b1111\n",
      "Bitwise NOT operation is -0b1100\n"
     ]
    }
   ],
   "source": [
    "#Bitwise Operaotrs\n",
    "m=0b1111\n",
    "n=0b1011\n",
    "print(f\"Bitwise and operation is {bin(m & n)}\")\n",
    "print(f\"Bitwise OR operation is {bin(m|n)}\")\n",
    "print(f\"Bitwise NOT operation is {bin(~n)}\")"
   ]
  },
  {
   "cell_type": "code",
   "execution_count": 119,
   "id": "53503b41-4283-445a-b9be-f7d6d346c263",
   "metadata": {},
   "outputs": [
    {
     "name": "stdout",
     "output_type": "stream",
     "text": [
      "30.0 20\n",
      "50.0\n",
      "30.0\n",
      "600.0\n",
      "30.0\n",
      "31457280\n"
     ]
    }
   ],
   "source": [
    "#Assignment Operators\n",
    "print(height, weight)\n",
    "height += weight\n",
    "print(height)\n",
    "height -= weight\n",
    "print(height)\n",
    "height *= weight\n",
    "print(height)\n",
    "height /= weight\n",
    "print (height)\n",
    "height=int(height)\n",
    "height <<= weight\n",
    "print(height)"
   ]
  },
  {
   "cell_type": "code",
   "execution_count": 121,
   "id": "489588a6-671b-4d89-82f4-5ad92e8bcb56",
   "metadata": {},
   "outputs": [
    {
     "name": "stdout",
     "output_type": "stream",
     "text": [
      "True\n",
      "False\n"
     ]
    }
   ],
   "source": [
    "# Identity Operators\n",
    "print(x is not y)\n",
    "print(x is y)"
   ]
  },
  {
   "cell_type": "code",
   "execution_count": 127,
   "id": "3dcace75-35e2-4a30-9520-bfcf3ed48659",
   "metadata": {},
   "outputs": [
    {
     "name": "stdout",
     "output_type": "stream",
     "text": [
      "True\n",
      "True\n"
     ]
    }
   ],
   "source": [
    "# Membership Associativity Operators\n",
    "list = [1,2,3,4,5]\n",
    "print(x not in list)\n",
    "print(y in list)"
   ]
  },
  {
   "cell_type": "code",
   "execution_count": 129,
   "id": "da39d9c6-b881-4284-945e-7166d7e1fcee",
   "metadata": {},
   "outputs": [
    {
     "name": "stdout",
     "output_type": "stream",
     "text": [
      "<class 'int'>\n",
      "<class 'float'>\n",
      "<class 'complex'>\n"
     ]
    }
   ],
   "source": [
    "## Data Type in Python\n",
    "# Numeric Data Type (Integer, Float and Complex Number)\n",
    "a = 5\n",
    "print(type(a))\n",
    "\n",
    "b = 5.0\n",
    "print(type(b))\n",
    "\n",
    "c = 2 + 4j\n",
    "print(type(c))\n"
   ]
  },
  {
   "cell_type": "code",
   "execution_count": 141,
   "id": "4db7386e-b1b4-495c-919f-8252dc147a7d",
   "metadata": {},
   "outputs": [
    {
     "name": "stdout",
     "output_type": "stream",
     "text": [
      "Hello, Python World!\n",
      "  hello, python world!  \n",
      "  HELLO, PYTHON WORLD!  \n",
      "  Hello, AI World!  \n",
      "16\n",
      "['Hello,', 'Python', 'World!']\n",
      "A-B-C\n",
      "[30, 25, 20, 10]\n",
      "4\n",
      "True\n",
      "3\n",
      "2\n",
      "x: 3, y: 4\n",
      "A Point\n"
     ]
    }
   ],
   "source": [
    "# Sequence Data Type (String List and Tuple)\n",
    "# String\n",
    "text = \"  Hello, Python World!  \"\n",
    "\n",
    "# Basic operations\n",
    "print(text.strip())          # Remove leading/trailing spaces\n",
    "print(text.lower())          # Convert to lowercase\n",
    "print(text.upper())          # Convert to uppercase\n",
    "print(text.replace(\"Python\", \"AI\"))  # Replace a word\n",
    "print(text.find(\"World\"))    # Find substring position\n",
    "print(text.split())          # Split into list of words\n",
    "print(\"-\".join([\"A\", \"B\", \"C\"]))     # Join list into string\n",
    "\n",
    "\n",
    "# List\n",
    "numbers = [10, 20, 30, 40]\n",
    "\n",
    "# Basic operations\n",
    "numbers.append(50)           # Add to end\n",
    "numbers.insert(2, 25)        # Insert at index 2\n",
    "numbers.remove(40)           # Remove value\n",
    "last = numbers.pop()         # Remove last item\n",
    "numbers.sort()               # Sort list\n",
    "numbers.reverse()            # Reverse list\n",
    "print(numbers)\n",
    "print(len(numbers))\n",
    "print(30 in numbers)         # Check if 30 is in list\n",
    "\n",
    "\n",
    "# Tuple\n",
    "point = (3, 4)\n",
    "\n",
    "# Access\n",
    "print(point[0])              # Indexing\n",
    "print(len(point))            # Length\n",
    "\n",
    "# Tuple unpacking\n",
    "x, y = point\n",
    "print(f\"x: {x}, y: {y}\")\n",
    "\n",
    "# Tuple as dictionary key\n",
    "coords = {(3, 4): \"A Point\"}\n",
    "print(coords[point])\n"
   ]
  },
  {
   "cell_type": "code",
   "execution_count": 131,
   "id": "27014a73-59f1-49c0-8b63-46e68983cf67",
   "metadata": {},
   "outputs": [
    {
     "name": "stdout",
     "output_type": "stream",
     "text": [
      "<class 'bool'>\n",
      "<class 'bool'>\n"
     ]
    },
    {
     "ename": "NameError",
     "evalue": "name 'true' is not defined",
     "output_type": "error",
     "traceback": [
      "\u001b[1;31m---------------------------------------------------------------------------\u001b[0m",
      "\u001b[1;31mNameError\u001b[0m                                 Traceback (most recent call last)",
      "Cell \u001b[1;32mIn[131], line 4\u001b[0m\n\u001b[0;32m      2\u001b[0m \u001b[38;5;28mprint\u001b[39m(\u001b[38;5;28mtype\u001b[39m(\u001b[38;5;28;01mTrue\u001b[39;00m))\n\u001b[0;32m      3\u001b[0m \u001b[38;5;28mprint\u001b[39m(\u001b[38;5;28mtype\u001b[39m(\u001b[38;5;28;01mFalse\u001b[39;00m))\n\u001b[1;32m----> 4\u001b[0m \u001b[38;5;28mprint\u001b[39m(\u001b[38;5;28mtype\u001b[39m(true))\n",
      "\u001b[1;31mNameError\u001b[0m: name 'true' is not defined"
     ]
    }
   ],
   "source": [
    "# Boolean Data Type\n",
    "print(type(True))\n",
    "print(type(False))\n",
    "print(type(true))\n"
   ]
  },
  {
   "cell_type": "code",
   "execution_count": 143,
   "id": "7e5d7170-c901-472b-a7cc-da6ad0cd3d59",
   "metadata": {},
   "outputs": [
    {
     "name": "stdout",
     "output_type": "stream",
     "text": [
      "{1, 3, 4}\n",
      "{1, 3, 4, 5}\n",
      "{3, 4}\n",
      "{1}\n",
      "{1, 5}\n",
      "True\n"
     ]
    }
   ],
   "source": [
    "#Set Data Type\n",
    "set1 = {1, 2, 3}\n",
    "set2 = {3, 4, 5}\n",
    "\n",
    "# Basic operations\n",
    "set1.add(4)                  # Add item\n",
    "set1.remove(2)               # Remove item\n",
    "set1.discard(10)             # Safe remove\n",
    "print(set1)\n",
    "\n",
    "# Set math\n",
    "print(set1 | set2)           # Union\n",
    "print(set1 & set2)           # Intersection\n",
    "print(set1 - set2)           # Difference\n",
    "print(set1 ^ set2)           # Symmetric difference\n",
    "\n",
    "print(3 in set1)             # Membership test\n"
   ]
  },
  {
   "cell_type": "code",
   "execution_count": 145,
   "id": "c9b1c7a1-2287-419a-a793-487f707c1936",
   "metadata": {},
   "outputs": [
    {
     "name": "stdout",
     "output_type": "stream",
     "text": [
      "Esha\n",
      "Not Provided\n",
      "dict_keys(['name', 'age', 'skills', 'email'])\n",
      "dict_values(['Esha', 26, ['Python', 'ML'], 'pandey@example.com'])\n",
      "dict_items([('name', 'Esha'), ('age', 26), ('skills', ['Python', 'ML']), ('email', 'pandey@example.com')])\n",
      "name => Esha\n",
      "age => 26\n",
      "skills => ['Python', 'ML']\n",
      "email => pandey@example.com\n",
      "{'name': 'Esha', 'age': 26, 'email': 'pandey@example.com', 'location': 'KTM'}\n"
     ]
    }
   ],
   "source": [
    "#Dictionary Data Type\n",
    "person = {\n",
    "    \"name\": \"Esha\",\n",
    "    \"age\": 25,\n",
    "    \"skills\": [\"Python\", \"ML\"]\n",
    "}\n",
    "\n",
    "# Access & modify\n",
    "print(person[\"name\"])\n",
    "print(person.get(\"email\", \"Not Provided\"))  # Safe access\n",
    "person[\"age\"] = 26\n",
    "person[\"email\"] = \"pandey@example.com\"\n",
    "\n",
    "# Functions\n",
    "print(person.keys())\n",
    "print(person.values())\n",
    "print(person.items())\n",
    "\n",
    "# Loop\n",
    "for key, value in person.items():\n",
    "    print(f\"{key} => {value}\")\n",
    "\n",
    "# Remove\n",
    "person.pop(\"skills\")\n",
    "person.update({\"location\": \"KTM\"})\n",
    "print(person)\n"
   ]
  },
  {
   "cell_type": "code",
   "execution_count": 153,
   "id": "76382b81-8874-4ba9-b47c-815f19e9fd05",
   "metadata": {},
   "outputs": [
    {
     "name": "stdout",
     "output_type": "stream",
     "text": [
      "Eligible to vote.\n",
      "Pay for ticket.\n",
      "Young adult.\n",
      "Not eligible for a senior discount.\n"
     ]
    }
   ],
   "source": [
    "## Conditional Statements\n",
    "# if statement\n",
    "age = 20\n",
    "\n",
    "if age >= 18:\n",
    "    print(\"Eligible to vote.\")\n",
    "\n",
    "# if else statement\n",
    "if age <= 12:\n",
    "    print(\"Travel for free.\")\n",
    "else:\n",
    "    print(\"Pay for ticket.\")\n",
    "\n",
    "# elif statement\n",
    "\n",
    "if age <= 12:\n",
    "    print(\"Child.\")\n",
    "elif age <= 19:\n",
    "    print(\"Teenager.\")\n",
    "elif age <= 35:\n",
    "    print(\"Young adult.\")\n",
    "else:\n",
    "    print(\"Adult.\")\n",
    "\n",
    "# nestled if else statement\n",
    "\n",
    "is_member = True\n",
    "\n",
    "if age >= 60:\n",
    "    if is_member:\n",
    "        print(\"30% senior discount!\")\n",
    "    else:\n",
    "        print(\"20% senior discount.\")\n",
    "else:\n",
    "    print(\"Not eligible for a senior discount.\")\n",
    "\n"
   ]
  },
  {
   "cell_type": "code",
   "execution_count": 155,
   "id": "bf0e7fa4-a8bd-4bba-8f50-2cde24e5a4fc",
   "metadata": {},
   "outputs": [
    {
     "name": "stdout",
     "output_type": "stream",
     "text": [
      "Two or Three\n"
     ]
    }
   ],
   "source": [
    "# Match-Case Statement\n",
    "number = 2\n",
    "\n",
    "match number:\n",
    "    case 1:\n",
    "        print(\"One\")\n",
    "    case 2 | 3:\n",
    "        print(\"Two or Three\")\n",
    "    case _:\n",
    "        print(\"Other number\")\n"
   ]
  },
  {
   "cell_type": "code",
   "execution_count": 165,
   "id": "7b0a7222-d175-4c5c-ba07-3d192015db4a",
   "metadata": {},
   "outputs": [
    {
     "name": "stdout",
     "output_type": "stream",
     "text": [
      "Hello World.\n",
      "Hello World.\n",
      "Hello World.\n",
      "In Else Block\n",
      "0\n",
      "1\n",
      "2\n",
      "3\n",
      "1 \n",
      "2 2 \n",
      "3 3 3 \n",
      "4 4 4 4 \n"
     ]
    }
   ],
   "source": [
    "## Loops in python\n",
    "# while loop\n",
    "\n",
    "cnt = 0\n",
    "while (cnt < 3):\n",
    "    cnt = cnt + 1\n",
    "    print(\"Hello World.\")\n",
    "else:\n",
    "    print(\"In Else Block\")\n",
    "\n",
    "# For loop\n",
    "n = 4\n",
    "for i in range(0, n):\n",
    "    print(i)\n",
    "\n",
    "# Nestled Loop\n",
    "for i in range(1, 5):\n",
    "    for j in range(i):\n",
    "        print(i, end=' ')\n",
    "    print()"
   ]
  },
  {
   "cell_type": "code",
   "execution_count": null,
   "id": "6e5a8c9e-5381-49ca-8acd-ecfc47184875",
   "metadata": {},
   "outputs": [],
   "source": []
  }
 ],
 "metadata": {
  "kernelspec": {
   "display_name": "Python 3 (base)",
   "language": "python",
   "name": "python3"
  },
  "language_info": {
   "codemirror_mode": {
    "name": "ipython",
    "version": 3
   },
   "file_extension": ".py",
   "mimetype": "text/x-python",
   "name": "python",
   "nbconvert_exporter": "python",
   "pygments_lexer": "ipython3",
   "version": "3.12.3"
  }
 },
 "nbformat": 4,
 "nbformat_minor": 5
}
