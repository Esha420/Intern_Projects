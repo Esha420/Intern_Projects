{
 "cells": [
  {
   "cell_type": "code",
   "execution_count": 1,
   "id": "74ef6e7b-d5b6-42f7-8891-db0b4b9a9562",
   "metadata": {},
   "outputs": [],
   "source": [
    "### Class\n",
    "class Dog:\n",
    "    def __init__(self, name):\n",
    "        self.name = name\n",
    "\n",
    "    def bark(self):\n",
    "        print(f\"{self.name} says woof!\")\n"
   ]
  },
  {
   "cell_type": "code",
   "execution_count": 5,
   "id": "dee54b2f-a823-47df-9f32-11bf15d92c95",
   "metadata": {},
   "outputs": [
    {
     "name": "stdout",
     "output_type": "stream",
     "text": [
      "Buddy says woof!\n"
     ]
    }
   ],
   "source": [
    "### Objects\n",
    "my_dog = Dog(\"Buddy\")\n",
    "my_dog.bark()  \n"
   ]
  },
  {
   "cell_type": "code",
   "execution_count": 17,
   "id": "fdc8c406-16e5-4215-9473-4d64183af33d",
   "metadata": {},
   "outputs": [
    {
     "name": "stdout",
     "output_type": "stream",
     "text": [
      "1000\n"
     ]
    }
   ],
   "source": [
    "### Encapsulation\n",
    "# Bundling data (attributes) and methods that operate on the data into a single unit (a class).\n",
    "# Also hides the internal state of the object from the outside (via private variables and getter/setter methods).\n",
    "class Account:\n",
    "    def __init__(self):\n",
    "        self.__balance = 0  # private variable\n",
    "\n",
    "    def deposit(self, amount):\n",
    "        if amount > 0:\n",
    "            self.__balance += amount\n",
    "\n",
    "    def get_balance(self):\n",
    "        return self.__balance\n",
    "\n",
    "acc = Account()\n",
    "acc.deposit(1000)\n",
    "print(acc.get_balance())  # 1000\n"
   ]
  },
  {
   "cell_type": "code",
   "execution_count": 21,
   "id": "af82b18e-e7bf-41a2-a408-47cd3e4e82e8",
   "metadata": {},
   "outputs": [
    {
     "name": "stdout",
     "output_type": "stream",
     "text": [
      "John\n",
      "John\n",
      "50000\n",
      "30\n"
     ]
    }
   ],
   "source": [
    "### Public , Private and Protected Members\n",
    "# Public Member\n",
    "class Public:\n",
    "    def __init__(self):\n",
    "        self.name = \"John\"  # Public attribute\n",
    "\n",
    "    def display_name(self):\n",
    "        print(self.name)  # Public method\n",
    "\n",
    "obj = Public()\n",
    "obj.display_name()  # Accessible\n",
    "print(obj.name)  # Accessible\n",
    "\n",
    "# Private Member\n",
    "class Private:\n",
    "    def __init__(self):\n",
    "        self.__salary = 50000  # Private attribute\n",
    "\n",
    "    def salary(self):\n",
    "        return self.__salary  # Access through public method\n",
    "\n",
    "obj = Private()\n",
    "print(obj.salary())  # Works\n",
    "#print(obj.__salary)  # Raises AttributeError\n",
    "\n",
    "# Protected Member\n",
    "class Protected:\n",
    "    def __init__(self):\n",
    "        self._age = 30  # Protected attribute\n",
    "\n",
    "class Subclass(Protected):\n",
    "    def display_age(self):\n",
    "        print(self._age)  # Accessible in subclass\n",
    "\n",
    "obj = Subclass()\n",
    "obj.display_age()\n"
   ]
  },
  {
   "cell_type": "code",
   "execution_count": 11,
   "id": "92cc1ef5-8097-4bd2-b821-cabf8349468f",
   "metadata": {},
   "outputs": [
    {
     "name": "stdout",
     "output_type": "stream",
     "text": [
      "Animal speaks\n",
      "Dog barks\n"
     ]
    }
   ],
   "source": [
    "### Inheritance\n",
    "# One class (child/derived) inherits from another (parent/base), reusing its code.\n",
    "# Promotes code reusability and allows new functionalities to be added with minimal changes.\n",
    "class Animal:\n",
    "    def speak(self):\n",
    "        print(\"Animal speaks\")\n",
    "\n",
    "class Dog(Animal):\n",
    "    def bark(self):\n",
    "        print(\"Dog barks\")\n",
    "\n",
    "dog = Dog()\n",
    "dog.speak()  # Inherited\n",
    "dog.bark()   # Own method\n"
   ]
  },
  {
   "cell_type": "code",
   "execution_count": 13,
   "id": "b2ee0a87-180d-4d36-a9f9-a94e2ce78a41",
   "metadata": {},
   "outputs": [
    {
     "name": "stdout",
     "output_type": "stream",
     "text": [
      "Meow\n",
      "Woof\n"
     ]
    }
   ],
   "source": [
    "### Polymorphism\n",
    "# \"Many forms\": The ability to use a single interface for different data types or classes.\n",
    "class Cat:\n",
    "    def speak(self):\n",
    "        print(\"Meow\")\n",
    "\n",
    "class Dog:\n",
    "    def speak(self):\n",
    "        print(\"Woof\")\n",
    "\n",
    "def make_animal_speak(animal):\n",
    "    animal.speak()\n",
    "\n",
    "make_animal_speak(Cat())  # Meow\n",
    "make_animal_speak(Dog())  # Woof\n"
   ]
  },
  {
   "cell_type": "code",
   "execution_count": 25,
   "id": "4a3599bb-0630-4512-bb71-26245e31031c",
   "metadata": {},
   "outputs": [
    {
     "name": "stdout",
     "output_type": "stream",
     "text": [
      "100\n"
     ]
    }
   ],
   "source": [
    "# Compile Time Polymorphism\n",
    "# Method Overloading\n",
    "# First product method.\n",
    "# Takes two argument and print their\n",
    "# product\n",
    "\n",
    "\n",
    "def product(a, b):\n",
    "    p = a * b\n",
    "    print(p)\n",
    "\n",
    "# Second product method\n",
    "# Takes three argument and print their\n",
    "# product\n",
    "\n",
    "\n",
    "def product(a, b, c):\n",
    "    p = a * b*c\n",
    "    print(p)\n",
    "\n",
    "# Uncommenting the below line shows an error\n",
    "# product(4, 5)\n",
    "\n",
    "\n",
    "# This line will call the second product method\n",
    "product(4, 5, 5)\n"
   ]
  },
  {
   "cell_type": "code",
   "execution_count": 23,
   "id": "e1c930cc-92da-4c2a-83ba-45bc9eafc47e",
   "metadata": {},
   "outputs": [
    {
     "name": "stdout",
     "output_type": "stream",
     "text": [
      "Bark\n",
      "Meow\n",
      "Some generic sound\n"
     ]
    }
   ],
   "source": [
    "# Run Time Polymorphism\n",
    "# Method Overriding\n",
    "class Animal:\n",
    "    def sound(self):\n",
    "        return \"Some generic sound\"\n",
    "\n",
    "class Dog(Animal):\n",
    "    def sound(self):\n",
    "        return \"Bark\"\n",
    "\n",
    "class Cat(Animal):\n",
    "    def sound(self):\n",
    "        return \"Meow\"\n",
    "\n",
    "# Polymorphic behavior\n",
    "animals = [Dog(), Cat(), Animal()]\n",
    "for animal in animals:\n",
    "    print(animal.sound())  # Calls the overridden method based on the object type\n"
   ]
  },
  {
   "cell_type": "code",
   "execution_count": 27,
   "id": "81b171a2-c60e-48ef-9c1b-a5afcaaf4ae7",
   "metadata": {},
   "outputs": [
    {
     "name": "stdout",
     "output_type": "stream",
     "text": [
      "Bark\n"
     ]
    }
   ],
   "source": [
    "### Abstraction\n",
    "# An abstract class is a class that cannot be instantiated on its own and is designed to be a blueprint for other classes.\n",
    "from abc import ABC, abstractmethod\n",
    "\n",
    "# Define an abstract class\n",
    "class Animal(ABC):\n",
    "    \n",
    "    @abstractmethod\n",
    "    def sound(self):\n",
    "        pass  # This is an abstract method, no implementation here.\n",
    "\n",
    "# Concrete subclass of Animal\n",
    "class Dog(Animal):\n",
    "    \n",
    "    def sound(self):\n",
    "        return \"Bark\"  # Providing the implementation of the abstract method\n",
    "\n",
    "# Create an instance of Dog\n",
    "dog = Dog()\n",
    "print(dog.sound())  # Output: Bark\n"
   ]
  },
  {
   "cell_type": "code",
   "execution_count": 19,
   "id": "849435f4-b4d9-4339-ab6e-05e0faa5f9c4",
   "metadata": {},
   "outputs": [
    {
     "name": "stdout",
     "output_type": "stream",
     "text": [
      "Alice created\n",
      "Alice deleted\n"
     ]
    }
   ],
   "source": [
    "### Constructor and Destructor\n",
    "class Person:\n",
    "    def __init__(self, name):\n",
    "        self.name = name\n",
    "        print(f\"{self.name} created\")\n",
    "\n",
    "    def __del__(self):\n",
    "        print(f\"{self.name} deleted\")\n",
    "\n",
    "p = Person(\"Alice\")  # Alice created\n",
    "del p                # Alice deleted\n"
   ]
  },
  {
   "cell_type": "code",
   "execution_count": null,
   "id": "fc7f2017-9380-4a18-a5ef-eb4f2d13125f",
   "metadata": {},
   "outputs": [],
   "source": []
  }
 ],
 "metadata": {
  "kernelspec": {
   "display_name": "Python 3 (base)",
   "language": "python",
   "name": "python3"
  },
  "language_info": {
   "codemirror_mode": {
    "name": "ipython",
    "version": 3
   },
   "file_extension": ".py",
   "mimetype": "text/x-python",
   "name": "python",
   "nbconvert_exporter": "python",
   "pygments_lexer": "ipython3",
   "version": "3.12.3"
  }
 },
 "nbformat": 4,
 "nbformat_minor": 5
}
